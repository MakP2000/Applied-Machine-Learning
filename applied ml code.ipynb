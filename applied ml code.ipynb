{
 "cells": [
  {
   "cell_type": "markdown",
   "metadata": {},
   "source": [
    "## <p style=\"background-color:#682F2F;font-family:newtimeroman;color:#FFF9ED;font-size:150%;text-align:center;border-radius:5px 5px;\">Import liabraries and load datasets</p>"
   ]
  },
  {
   "cell_type": "code",
   "execution_count": null,
   "metadata": {
    "execution": {
     "iopub.execute_input": "2022-05-07T18:50:28.503663Z",
     "iopub.status.busy": "2022-05-07T18:50:28.503061Z",
     "iopub.status.idle": "2022-05-07T18:50:29.750626Z",
     "shell.execute_reply": "2022-05-07T18:50:29.749446Z",
     "shell.execute_reply.started": "2022-05-07T18:50:28.503544Z"
    }
   },
   "outputs": [],
   "source": [
    "# import data science basic libraries\n",
    "import pandas as pd\n",
    "import numpy as np\n",
    "import matplotlib.pyplot as plt\n",
    "import seaborn as sns\n",
    "import warnings\n",
    "warnings.filterwarnings('ignore')"
   ]
  },
  {
   "cell_type": "code",
   "execution_count": null,
   "metadata": {},
   "outputs": [],
   "source": [
    "from sklearn.model_selection import RandomizedSearchCV, GridSearchCV, train_test_split"
   ]
  },
  {
   "cell_type": "code",
   "execution_count": null,
   "metadata": {
    "execution": {
     "iopub.execute_input": "2022-05-07T18:50:33.513374Z",
     "iopub.status.busy": "2022-05-07T18:50:33.513105Z",
     "iopub.status.idle": "2022-05-07T18:50:33.559651Z",
     "shell.execute_reply": "2022-05-07T18:50:33.558586Z",
     "shell.execute_reply.started": "2022-05-07T18:50:33.513345Z"
    }
   },
   "outputs": [],
   "source": [
    "# load data\n",
    "df = pd.read_csv('heart.csv')\n",
    "df.head()"
   ]
  },
  {
   "cell_type": "markdown",
   "metadata": {},
   "source": [
    "## <p style=\"background-color:#682F2F;font-family:newtimeroman;color:#FFF9ED;font-size:150%;text-align:center;border-radius:5px 5px;\">Exploratory Data Analysis</p>"
   ]
  },
  {
   "cell_type": "code",
   "execution_count": null,
   "metadata": {
    "execution": {
     "iopub.execute_input": "2022-05-07T18:52:28.46061Z",
     "iopub.status.busy": "2022-05-07T18:52:28.460319Z",
     "iopub.status.idle": "2022-05-07T18:52:28.465937Z",
     "shell.execute_reply": "2022-05-07T18:52:28.465049Z",
     "shell.execute_reply.started": "2022-05-07T18:52:28.460578Z"
    }
   },
   "outputs": [],
   "source": [
    "# data shape\n",
    "df.shape"
   ]
  },
  {
   "cell_type": "code",
   "execution_count": null,
   "metadata": {
    "execution": {
     "iopub.execute_input": "2022-05-07T18:52:41.381457Z",
     "iopub.status.busy": "2022-05-07T18:52:41.380774Z",
     "iopub.status.idle": "2022-05-07T18:52:41.409503Z",
     "shell.execute_reply": "2022-05-07T18:52:41.408263Z",
     "shell.execute_reply.started": "2022-05-07T18:52:41.38143Z"
    }
   },
   "outputs": [],
   "source": [
    "df.info()"
   ]
  },
  {
   "cell_type": "code",
   "execution_count": null,
   "metadata": {
    "execution": {
     "iopub.execute_input": "2022-05-07T18:52:53.794472Z",
     "iopub.status.busy": "2022-05-07T18:52:53.794045Z",
     "iopub.status.idle": "2022-05-07T18:52:53.806677Z",
     "shell.execute_reply": "2022-05-07T18:52:53.805341Z",
     "shell.execute_reply.started": "2022-05-07T18:52:53.794442Z"
    }
   },
   "outputs": [],
   "source": [
    "# show unique values\n",
    "df.nunique()"
   ]
  },
  {
   "cell_type": "code",
   "execution_count": null,
   "metadata": {
    "execution": {
     "iopub.execute_input": "2022-05-07T18:53:05.360347Z",
     "iopub.status.busy": "2022-05-07T18:53:05.360115Z",
     "iopub.status.idle": "2022-05-07T18:53:05.397511Z",
     "shell.execute_reply": "2022-05-07T18:53:05.396487Z",
     "shell.execute_reply.started": "2022-05-07T18:53:05.360321Z"
    }
   },
   "outputs": [],
   "source": [
    "# data basic statistics\n",
    "df.describe()"
   ]
  },
  {
   "cell_type": "code",
   "execution_count": null,
   "metadata": {
    "execution": {
     "iopub.execute_input": "2022-05-07T18:53:20.362633Z",
     "iopub.status.busy": "2022-05-07T18:53:20.362353Z",
     "iopub.status.idle": "2022-05-07T18:53:20.374565Z",
     "shell.execute_reply": "2022-05-07T18:53:20.37303Z",
     "shell.execute_reply.started": "2022-05-07T18:53:20.362602Z"
    }
   },
   "outputs": [],
   "source": [
    "# missing values in decerding order\n",
    "df.isnull().sum().sort_values(ascending=False)"
   ]
  },
  {
   "cell_type": "code",
   "execution_count": null,
   "metadata": {
    "execution": {
     "iopub.execute_input": "2022-05-07T18:53:35.113051Z",
     "iopub.status.busy": "2022-05-07T18:53:35.112309Z",
     "iopub.status.idle": "2022-05-07T18:53:35.123289Z",
     "shell.execute_reply": "2022-05-07T18:53:35.12205Z",
     "shell.execute_reply.started": "2022-05-07T18:53:35.112996Z"
    }
   },
   "outputs": [],
   "source": [
    "# duplicated values\n",
    "df.duplicated().sum()"
   ]
  },
  {
   "cell_type": "code",
   "execution_count": null,
   "metadata": {
    "execution": {
     "iopub.execute_input": "2022-05-07T18:53:52.233368Z",
     "iopub.status.busy": "2022-05-07T18:53:52.232732Z",
     "iopub.status.idle": "2022-05-07T18:53:52.250988Z",
     "shell.execute_reply": "2022-05-07T18:53:52.250353Z",
     "shell.execute_reply.started": "2022-05-07T18:53:52.233336Z"
    }
   },
   "outputs": [],
   "source": [
    "# numerical and categorical features \n",
    "Categorical = df.select_dtypes(include=['object'])\n",
    "Numerical = df.select_dtypes(include=['int64', 'float64'])\n",
    "print('Categorical features:\\n', Categorical)\n",
    "print('Numerical features:\\n', Numerical)"
   ]
  },
  {
   "cell_type": "code",
   "execution_count": null,
   "metadata": {
    "execution": {
     "iopub.execute_input": "2022-05-07T18:55:27.632171Z",
     "iopub.status.busy": "2022-05-07T18:55:27.631861Z",
     "iopub.status.idle": "2022-05-07T18:55:27.640262Z",
     "shell.execute_reply": "2022-05-07T18:55:27.639291Z",
     "shell.execute_reply.started": "2022-05-07T18:55:27.632139Z"
    }
   },
   "outputs": [],
   "source": [
    "# count target variable\n",
    "df['HeartDisease'].value_counts()"
   ]
  },
  {
   "cell_type": "markdown",
   "metadata": {},
   "source": [
    "## <p style=\"background-color:#682F2F;font-family:newtimeroman;color:#FFF9ED;font-size:150%;text-align:center;border-radius:5px 5px;\">Visualization</p>"
   ]
  },
  {
   "cell_type": "code",
   "execution_count": null,
   "metadata": {
    "execution": {
     "iopub.execute_input": "2022-05-07T18:56:37.642291Z",
     "iopub.status.busy": "2022-05-07T18:56:37.642029Z",
     "iopub.status.idle": "2022-05-07T18:56:37.774024Z",
     "shell.execute_reply": "2022-05-07T18:56:37.773435Z",
     "shell.execute_reply.started": "2022-05-07T18:56:37.642263Z"
    }
   },
   "outputs": [],
   "source": [
    "# Normal and Heart Disease with target column\n",
    "plt.figure(figsize=(10,5))\n",
    "plt.pie(df['HeartDisease'].value_counts(), labels=['Heart Disease[1]', 'Normal[0]'], autopct='%1.1f%%')\n",
    "plt.show()"
   ]
  },
  {
   "cell_type": "code",
   "execution_count": null,
   "metadata": {
    "execution": {
     "iopub.execute_input": "2022-05-07T18:57:03.813376Z",
     "iopub.status.busy": "2022-05-07T18:57:03.812916Z",
     "iopub.status.idle": "2022-05-07T18:57:04.213409Z",
     "shell.execute_reply": "2022-05-07T18:57:04.212212Z",
     "shell.execute_reply.started": "2022-05-07T18:57:03.813347Z"
    }
   },
   "outputs": [],
   "source": [
    "# ploting corelation matrix\n",
    "sns.heatmap(df.corr(), annot=True)\n",
    "plt.show()"
   ]
  },
  {
   "cell_type": "code",
   "execution_count": null,
   "metadata": {
    "execution": {
     "iopub.execute_input": "2022-05-07T18:57:37.793305Z",
     "iopub.status.busy": "2022-05-07T18:57:37.793047Z",
     "iopub.status.idle": "2022-05-07T18:57:45.952437Z",
     "shell.execute_reply": "2022-05-07T18:57:45.951474Z",
     "shell.execute_reply.started": "2022-05-07T18:57:37.793277Z"
    }
   },
   "outputs": [],
   "source": [
    "# ploting numerical features with target\n",
    "for i in Numerical:\n",
    "    plt.figure(figsize=(10,5))\n",
    "    sns.countplot(x=i, data=df, hue='HeartDisease')\n",
    "    plt.legend(['Normal', 'Heart Disease'])\n",
    "    plt.title(i)\n",
    "    plt.show()"
   ]
  },
  {
   "cell_type": "code",
   "execution_count": null,
   "metadata": {
    "execution": {
     "iopub.execute_input": "2022-05-07T18:58:26.86138Z",
     "iopub.status.busy": "2022-05-07T18:58:26.860683Z",
     "iopub.status.idle": "2022-05-07T18:58:27.696021Z",
     "shell.execute_reply": "2022-05-07T18:58:27.69512Z",
     "shell.execute_reply.started": "2022-05-07T18:58:26.861345Z"
    }
   },
   "outputs": [],
   "source": [
    "#ploting categorical features with target\n",
    "for i in Categorical:\n",
    "    plt.figure(figsize=(10,5))\n",
    "    sns.countplot(x=i, data=df, hue='HeartDisease', edgecolor='black')\n",
    "    plt.legend(['Normal', 'Heart Disease'])\n",
    "    plt.title(i)\n",
    "    plt.show()"
   ]
  },
  {
   "cell_type": "code",
   "execution_count": null,
   "metadata": {
    "execution": {
     "iopub.execute_input": "2022-05-07T18:58:47.693673Z",
     "iopub.status.busy": "2022-05-07T18:58:47.693417Z",
     "iopub.status.idle": "2022-05-07T18:58:58.3274Z",
     "shell.execute_reply": "2022-05-07T18:58:58.326549Z",
     "shell.execute_reply.started": "2022-05-07T18:58:47.693645Z"
    }
   },
   "outputs": [],
   "source": [
    "#pairplot using target HeartDisease Column\n",
    "sns.pairplot(df, hue='HeartDisease')\n",
    "plt.show()"
   ]
  },
  {
   "cell_type": "code",
   "execution_count": null,
   "metadata": {
    "execution": {
     "iopub.execute_input": "2022-05-07T18:59:28.740965Z",
     "iopub.status.busy": "2022-05-07T18:59:28.740262Z",
     "iopub.status.idle": "2022-05-07T18:59:29.067952Z",
     "shell.execute_reply": "2022-05-07T18:59:29.066833Z",
     "shell.execute_reply.started": "2022-05-07T18:59:28.740932Z"
    }
   },
   "outputs": [],
   "source": [
    "# distribution plot of Age for HeartDisease\n",
    "sns.distplot(df['Age'][df['HeartDisease'] == 1], kde=True, color='red', label='Heart Disease')\n",
    "sns.distplot(df['Age'][df['HeartDisease'] == 0], kde=True, color='green', label='Normal')\n",
    "plt.legend()"
   ]
  },
  {
   "cell_type": "markdown",
   "metadata": {},
   "source": [
    "## <p style=\"background-color:#682F2F;font-family:newtimeroman;color:#FFF9ED;font-size:150%;text-align:center;border-radius:5px 5px;\">Data Preprocessing</p>"
   ]
  },
  {
   "cell_type": "code",
   "execution_count": null,
   "metadata": {
    "execution": {
     "iopub.execute_input": "2022-05-07T19:00:11.102761Z",
     "iopub.status.busy": "2022-05-07T19:00:11.101757Z",
     "iopub.status.idle": "2022-05-07T19:00:11.293458Z",
     "shell.execute_reply": "2022-05-07T19:00:11.292106Z",
     "shell.execute_reply.started": "2022-05-07T19:00:11.102704Z"
    }
   },
   "outputs": [],
   "source": [
    "# select numerical features and encoding it\n",
    "from sklearn.preprocessing import LabelEncoder\n",
    "le = LabelEncoder()\n",
    "# select numerical features\n",
    "numerical_features = df.select_dtypes(include=['int64', 'float64'])\n",
    "# apply label encoding\n",
    "numerical_features = numerical_features.apply(LabelEncoder().fit_transform)\n",
    "numerical_features.head()"
   ]
  },
  {
   "cell_type": "code",
   "execution_count": null,
   "metadata": {
    "execution": {
     "iopub.execute_input": "2022-05-07T19:00:46.053569Z",
     "iopub.status.busy": "2022-05-07T19:00:46.053311Z",
     "iopub.status.idle": "2022-05-07T19:00:46.083125Z",
     "shell.execute_reply": "2022-05-07T19:00:46.081337Z",
     "shell.execute_reply.started": "2022-05-07T19:00:46.053546Z"
    }
   },
   "outputs": [],
   "source": [
    "# One-Hot encoding the categorical features using get_dummies()\n",
    "# select categorical features\n",
    "categorical_features = df.select_dtypes(include=['object'])\n",
    "# apply get_dummies encoding\n",
    "categorical_features = pd.get_dummies(categorical_features)\n",
    "categorical_features.head()"
   ]
  },
  {
   "cell_type": "code",
   "execution_count": null,
   "metadata": {
    "execution": {
     "iopub.execute_input": "2022-05-07T19:01:05.14854Z",
     "iopub.status.busy": "2022-05-07T19:01:05.148292Z",
     "iopub.status.idle": "2022-05-07T19:01:05.172062Z",
     "shell.execute_reply": "2022-05-07T19:01:05.171035Z",
     "shell.execute_reply.started": "2022-05-07T19:01:05.148513Z"
    }
   },
   "outputs": [],
   "source": [
    "# combine numerical and categorical features\n",
    "combined = pd.concat([numerical_features, categorical_features], axis=1)\n",
    "combined.head()"
   ]
  },
  {
   "cell_type": "code",
   "execution_count": null,
   "metadata": {
    "execution": {
     "iopub.execute_input": "2022-05-07T19:01:19.932083Z",
     "iopub.status.busy": "2022-05-07T19:01:19.931726Z",
     "iopub.status.idle": "2022-05-07T19:01:19.94064Z",
     "shell.execute_reply": "2022-05-07T19:01:19.939691Z",
     "shell.execute_reply.started": "2022-05-07T19:01:19.932053Z"
    }
   },
   "outputs": [],
   "source": [
    "# separet features and target\n",
    "X = combined.drop(['HeartDisease'], axis=1)\n",
    "y = combined['HeartDisease']"
   ]
  },
  {
   "cell_type": "code",
   "execution_count": null,
   "metadata": {
    "execution": {
     "iopub.execute_input": "2022-05-07T19:01:33.511752Z",
     "iopub.status.busy": "2022-05-07T19:01:33.511156Z",
     "iopub.status.idle": "2022-05-07T19:01:33.530168Z",
     "shell.execute_reply": "2022-05-07T19:01:33.529266Z",
     "shell.execute_reply.started": "2022-05-07T19:01:33.511708Z"
    }
   },
   "outputs": [],
   "source": [
    "X.head()"
   ]
  },
  {
   "cell_type": "code",
   "execution_count": null,
   "metadata": {
    "execution": {
     "iopub.execute_input": "2022-05-07T19:01:47.609276Z",
     "iopub.status.busy": "2022-05-07T19:01:47.60877Z",
     "iopub.status.idle": "2022-05-07T19:01:47.615718Z",
     "shell.execute_reply": "2022-05-07T19:01:47.614505Z",
     "shell.execute_reply.started": "2022-05-07T19:01:47.609228Z"
    }
   },
   "outputs": [],
   "source": [
    "y.head()"
   ]
  },
  {
   "cell_type": "code",
   "execution_count": null,
   "metadata": {
    "execution": {
     "iopub.execute_input": "2022-05-07T19:12:33.261679Z",
     "iopub.status.busy": "2022-05-07T19:12:33.261034Z",
     "iopub.status.idle": "2022-05-07T19:12:33.270498Z",
     "shell.execute_reply": "2022-05-07T19:12:33.26926Z",
     "shell.execute_reply.started": "2022-05-07T19:12:33.26161Z"
    }
   },
   "outputs": [],
   "source": [
    "# train test split\n",
    "from sklearn.model_selection import train_test_split\n",
    "X_train, X_test, y_train, y_test = train_test_split(X, y, test_size=0.2, random_state=42)"
   ]
  },
  {
   "cell_type": "markdown",
   "metadata": {},
   "source": [
    "## <p style=\"background-color:#682F2F;font-family:newtimeroman;color:#FFF9ED;font-size:150%;text-align:center;border-radius:5px 5px;\">Model 1: XGboost</p>"
   ]
  },
  {
   "cell_type": "code",
   "execution_count": null,
   "metadata": {
    "execution": {
     "iopub.execute_input": "2022-05-07T19:18:19.253948Z",
     "iopub.status.busy": "2022-05-07T19:18:19.253626Z",
     "iopub.status.idle": "2022-05-07T19:18:21.423221Z",
     "shell.execute_reply": "2022-05-07T19:18:21.422589Z",
     "shell.execute_reply.started": "2022-05-07T19:18:19.253921Z"
    }
   },
   "outputs": [],
   "source": [
    "# model building xgboost\n",
    "from xgboost import XGBClassifier\n",
    "model = XGBClassifier()"
   ]
  },
  {
   "cell_type": "code",
   "execution_count": null,
   "metadata": {},
   "outputs": [],
   "source": [
    "model = GridSearchCV(model,{'max_depth': [2,4,6],\n",
    "                    'n_estimators': [50,100,200]}, \n",
    "                    verbose=1, \n",
    "                    scoring='accuracy')"
   ]
  },
  {
   "cell_type": "code",
   "execution_count": null,
   "metadata": {},
   "outputs": [],
   "source": [
    "model.fit(X_train, y_train)\n",
    "# predict\n",
    "y_pred = model.predict(X_test)\n",
    "# accuracy\n",
    "from sklearn.metrics import accuracy_score\n",
    "print('Accuracy:', accuracy_score(y_test, y_pred))"
   ]
  },
  {
   "cell_type": "code",
   "execution_count": null,
   "metadata": {
    "execution": {
     "iopub.execute_input": "2022-05-07T19:18:26.493695Z",
     "iopub.status.busy": "2022-05-07T19:18:26.493298Z",
     "iopub.status.idle": "2022-05-07T19:18:26.506649Z",
     "shell.execute_reply": "2022-05-07T19:18:26.505283Z",
     "shell.execute_reply.started": "2022-05-07T19:18:26.493653Z"
    }
   },
   "outputs": [],
   "source": [
    "# print precetion, recall, f1 score\n",
    "from sklearn.metrics import classification_report\n",
    "print(classification_report(y_test, y_pred))"
   ]
  },
  {
   "cell_type": "code",
   "execution_count": null,
   "metadata": {
    "execution": {
     "iopub.execute_input": "2022-05-07T19:18:32.753712Z",
     "iopub.status.busy": "2022-05-07T19:18:32.752822Z",
     "iopub.status.idle": "2022-05-07T19:18:32.921048Z",
     "shell.execute_reply": "2022-05-07T19:18:32.920077Z",
     "shell.execute_reply.started": "2022-05-07T19:18:32.753639Z"
    }
   },
   "outputs": [],
   "source": [
    "# confusion matrix\n",
    "from sklearn.metrics import confusion_matrix\n",
    "cm = confusion_matrix(y_test, y_pred)\n",
    "plt.figure(figsize=(5,3))\n",
    "sns.heatmap(cm, annot=True)"
   ]
  },
  {
   "cell_type": "markdown",
   "metadata": {},
   "source": [
    "## <p style=\"background-color:#682F2F;font-family:newtimeroman;color:#FFF9ED;font-size:150%;text-align:center;border-radius:5px 5px;\">Model 2: Random Forrest</p>"
   ]
  },
  {
   "cell_type": "code",
   "execution_count": null,
   "metadata": {
    "execution": {
     "iopub.execute_input": "2022-05-07T19:16:14.515141Z",
     "iopub.status.busy": "2022-05-07T19:16:14.514287Z",
     "iopub.status.idle": "2022-05-07T19:16:14.732466Z",
     "shell.execute_reply": "2022-05-07T19:16:14.730874Z",
     "shell.execute_reply.started": "2022-05-07T19:16:14.515104Z"
    }
   },
   "outputs": [],
   "source": [
    "# model building catboost\n",
    "from sklearn.ensemble import RandomForestClassifier\n",
    "model2 = RandomForestClassifier()"
   ]
  },
  {
   "cell_type": "code",
   "execution_count": null,
   "metadata": {},
   "outputs": [],
   "source": [
    "param_grid = { \n",
    "    'n_estimators': [200, 300],\n",
    "    'max_features': ['auto', 'sqrt', 'log2'],\n",
    "    'max_depth' : [4,5,6,7,8],\n",
    "    'criterion' :['gini', 'entropy']\n",
    "}"
   ]
  },
  {
   "cell_type": "code",
   "execution_count": null,
   "metadata": {},
   "outputs": [],
   "source": [
    "model2.fit(X_train, y_train)\n",
    "# predict\n",
    "y_pred = model2.predict(X_test)\n",
    "# Print accuracy\n",
    "from sklearn.metrics import accuracy_score\n",
    "print('Accuracy:', accuracy_score(y_test, y_pred))\n",
    "# print classification report\n",
    "from sklearn.metrics import classification_report\n",
    "print('Classification report\\n',classification_report(y_test, y_pred))\n"
   ]
  },
  {
   "cell_type": "code",
   "execution_count": null,
   "metadata": {
    "execution": {
     "iopub.execute_input": "2022-05-07T19:14:52.256137Z",
     "iopub.status.busy": "2022-05-07T19:14:52.255848Z",
     "iopub.status.idle": "2022-05-07T19:14:52.446473Z",
     "shell.execute_reply": "2022-05-07T19:14:52.444909Z",
     "shell.execute_reply.started": "2022-05-07T19:14:52.256106Z"
    }
   },
   "outputs": [],
   "source": [
    "# plot confusion matrix\n",
    "from sklearn.metrics import confusion_matrix\n",
    "cm = confusion_matrix(y_test, y_pred)\n",
    "plt.figure(figsize=(5,3))\n",
    "sns.heatmap(cm, annot=True)"
   ]
  },
  {
   "cell_type": "markdown",
   "metadata": {},
   "source": [
    "## <p style=\"background-color:#682F2F;font-family:newtimeroman;color:#FFF9ED;font-size:150%;text-align:center;border-radius:5px 5px;\">Model 3: Naive Bayes</p>"
   ]
  },
  {
   "cell_type": "code",
   "execution_count": null,
   "metadata": {},
   "outputs": [],
   "source": [
    "# model building catboost\n",
    "from sklearn.naive_bayes import GaussianNB\n",
    "model3 = GaussianNB()\n",
    "model3.fit(X_train, y_train)\n",
    "# predict\n",
    "y_pred = model3.predict(X_test)\n",
    "# Print accuracy\n",
    "from sklearn.metrics import accuracy_score\n",
    "print('Accuracy:', accuracy_score(y_test, y_pred))\n",
    "# print classification report\n",
    "from sklearn.metrics import classification_report\n",
    "print('Classification report\\n',classification_report(y_test, y_pred))"
   ]
  },
  {
   "cell_type": "code",
   "execution_count": null,
   "metadata": {},
   "outputs": [],
   "source": [
    "# plot confusion matrix\n",
    "from sklearn.metrics import confusion_matrix\n",
    "cm = confusion_matrix(y_test, y_pred)\n",
    "plt.figure(figsize=(5,3))\n",
    "sns.heatmap(cm, annot=True)"
   ]
  },
  {
   "cell_type": "markdown",
   "metadata": {},
   "source": [
    "## <p style=\"background-color:#682F2F;font-family:newtimeroman;color:#FFF9ED;font-size:150%;text-align:center;border-radius:5px 5px;\">Model 4: Voting ensamble</p>"
   ]
  },
  {
   "cell_type": "code",
   "execution_count": null,
   "metadata": {},
   "outputs": [],
   "source": [
    "from sklearn.ensemble import VotingClassifier\n",
    "m1=RandomForestClassifier()\n",
    "m2=XGBClassifier()\n",
    "m3=GaussianNB()\n",
    "model4 = VotingClassifier(estimators=[\n",
    "        ('RF', m1), ('XGBOOST', m2), ('NaiveBAyes', m3)], voting='soft')#\n",
    "model4.fit(X_train, y_train)\n",
    "# predict\n",
    "y_pred = model4.predict(X_test)\n",
    "# Print accuracy\n",
    "from sklearn.metrics import accuracy_score\n",
    "print('Accuracy:', accuracy_score(y_test, y_pred))\n",
    "# print classification report\n",
    "from sklearn.metrics import classification_report\n",
    "print('Classification report\\n',classification_report(y_test, y_pred))"
   ]
  },
  {
   "cell_type": "code",
   "execution_count": null,
   "metadata": {},
   "outputs": [],
   "source": [
    "from sklearn.metrics import confusion_matrix\n",
    "cm = confusion_matrix(y_test, y_pred)\n",
    "plt.figure(figsize=(5,3))\n",
    "sns.heatmap(cm, annot=True)"
   ]
  },
  {
   "cell_type": "markdown",
   "metadata": {},
   "source": [
    "## <p style=\"background-color:#682F2F;font-family:newtimeroman;color:#FFF9ED;font-size:150%;text-align:center;border-radius:5px 5px;\">Model 5: Neural Network</p>"
   ]
  },
  {
   "cell_type": "code",
   "execution_count": null,
   "metadata": {},
   "outputs": [],
   "source": [
    "from sklearn.neural_network import MLPClassifier\n",
    "Model5= MLPClassifier()"
   ]
  },
  {
   "cell_type": "code",
   "execution_count": null,
   "metadata": {},
   "outputs": [],
   "source": [
    "Model5.fit(X_train, y_train)\n",
    "# predict\n",
    "y_pred = Model5.predict(X_test)\n",
    "# Print accuracy\n",
    "from sklearn.metrics import accuracy_score\n",
    "print('Accuracy:', accuracy_score(y_test, y_pred))\n",
    "# print classification report\n",
    "from sklearn.metrics import classification_report\n",
    "print('Classification report\\n',classification_report(y_test, y_pred))"
   ]
  },
  {
   "cell_type": "code",
   "execution_count": null,
   "metadata": {},
   "outputs": [],
   "source": [
    "from sklearn.metrics import confusion_matrix\n",
    "cm = confusion_matrix(y_test, y_pred)\n",
    "plt.figure(figsize=(5,3))\n",
    "sns.heatmap(cm, annot=True)"
   ]
  }
 ],
 "metadata": {
  "kernelspec": {
   "display_name": "Python 3 (ipykernel)",
   "language": "python",
   "name": "python3"
  },
  "language_info": {
   "codemirror_mode": {
    "name": "ipython",
    "version": 3
   },
   "file_extension": ".py",
   "mimetype": "text/x-python",
   "name": "python",
   "nbconvert_exporter": "python",
   "pygments_lexer": "ipython3",
   "version": "3.8.10"
  }
 },
 "nbformat": 4,
 "nbformat_minor": 4
}
